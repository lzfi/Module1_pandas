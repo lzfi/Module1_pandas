{
  "nbformat": 4,
  "nbformat_minor": 0,
  "metadata": {
    "colab": {
      "name": "Movies_IMBD_v4.1_TEMPLATE.ipynb",
      "provenance": [],
      "collapsed_sections": [
        "PQ0KciD7Vp_f",
        "mWHyyL7QVp_j",
        "NIh6AaW5Vp_n",
        "RqOmPRfWVp_q",
        "vS8Ur6ddVp_u",
        "JAzJh4QAVp_z",
        "8Im1S2HRVp_4",
        "uAJsZ_NeVp_7",
        "G94ppOY1VqAA",
        "RBo0JVjVVqAF",
        "9G0hbvR7VqAK",
        "FJ1AFt90VqAP",
        "MdXsUXbCVqAV",
        "U0nONFnGVqAX"
      ]
    },
    "kernelspec": {
      "display_name": "Python 3",
      "language": "python",
      "name": "python3"
    },
    "language_info": {
      "codemirror_mode": {
        "name": "ipython",
        "version": 3
      },
      "file_extension": ".py",
      "mimetype": "text/x-python",
      "name": "python",
      "nbconvert_exporter": "python",
      "pygments_lexer": "ipython3",
      "version": "3.7.4"
    }
  },
  "cells": [
    {
      "cell_type": "code",
      "metadata": {
        "_cell_guid": "b1076dfc-b9ad-4769-8c92-a6c4dae69d19",
        "_uuid": "8f2839f25d086af736a60e9eeb907d3b93b6e0e5",
        "id": "U2D2gTdJVp90"
      },
      "source": [
        "import numpy as np\n",
        "import pandas as pd\n",
        "import seaborn as sns\n",
        "import matplotlib.pyplot as plt\n",
        "from collections import Counter"
      ],
      "execution_count": 1,
      "outputs": []
    },
    {
      "cell_type": "code",
      "metadata": {
        "_cell_guid": "79c7e3d0-c299-4dcb-8224-4455121ee9b0",
        "_uuid": "d629ff2d2480ee46fbb7e2d37f6b5fab8052498a",
        "colab": {
          "base_uri": "https://localhost:8080/",
          "height": 649
        },
        "id": "oyGfxL3eVp9-",
        "outputId": "2c11f381-576f-4d22-9caf-62c56a4cdfef"
      },
      "source": [
        "data = pd.read_csv('movie_bd_v5.csv')\n",
        "data.sample(5)"
      ],
      "execution_count": 2,
      "outputs": [
        {
          "output_type": "execute_result",
          "data": {
            "text/html": [
              "<div>\n",
              "<style scoped>\n",
              "    .dataframe tbody tr th:only-of-type {\n",
              "        vertical-align: middle;\n",
              "    }\n",
              "\n",
              "    .dataframe tbody tr th {\n",
              "        vertical-align: top;\n",
              "    }\n",
              "\n",
              "    .dataframe thead th {\n",
              "        text-align: right;\n",
              "    }\n",
              "</style>\n",
              "<table border=\"1\" class=\"dataframe\">\n",
              "  <thead>\n",
              "    <tr style=\"text-align: right;\">\n",
              "      <th></th>\n",
              "      <th>imdb_id</th>\n",
              "      <th>budget</th>\n",
              "      <th>revenue</th>\n",
              "      <th>original_title</th>\n",
              "      <th>cast</th>\n",
              "      <th>director</th>\n",
              "      <th>tagline</th>\n",
              "      <th>overview</th>\n",
              "      <th>runtime</th>\n",
              "      <th>genres</th>\n",
              "      <th>production_companies</th>\n",
              "      <th>release_date</th>\n",
              "      <th>vote_average</th>\n",
              "      <th>release_year</th>\n",
              "    </tr>\n",
              "  </thead>\n",
              "  <tbody>\n",
              "    <tr>\n",
              "      <th>124</th>\n",
              "      <td>tt2245084</td>\n",
              "      <td>165000000</td>\n",
              "      <td>652105443</td>\n",
              "      <td>Big Hero 6</td>\n",
              "      <td>Scott Adsit|Ryan Potter|Daniel Henney|T.J. Mil...</td>\n",
              "      <td>Don Hall|Chris Williams</td>\n",
              "      <td>From the creators of Wreck-it Ralph and Frozen</td>\n",
              "      <td>The special bond that develops between plus-si...</td>\n",
              "      <td>102</td>\n",
              "      <td>Adventure|Family|Animation|Action|Comedy</td>\n",
              "      <td>Walt Disney Pictures|Walt Disney Animation Stu...</td>\n",
              "      <td>10/24/2014</td>\n",
              "      <td>7.8</td>\n",
              "      <td>2014</td>\n",
              "    </tr>\n",
              "    <tr>\n",
              "      <th>1175</th>\n",
              "      <td>tt0339034</td>\n",
              "      <td>12000000</td>\n",
              "      <td>4922166</td>\n",
              "      <td>From Justin to Kelly</td>\n",
              "      <td>Kelly Clarkson|Justin Guarini |Brandon Hensche...</td>\n",
              "      <td>Robert Iscove</td>\n",
              "      <td>The tale of two American Idols.</td>\n",
              "      <td>A lonely, sexually repressed man. A depressed ...</td>\n",
              "      <td>90</td>\n",
              "      <td>Comedy|Romance</td>\n",
              "      <td>20th Century Fox</td>\n",
              "      <td>6/20/2003</td>\n",
              "      <td>3.5</td>\n",
              "      <td>2003</td>\n",
              "    </tr>\n",
              "    <tr>\n",
              "      <th>323</th>\n",
              "      <td>tt1057500</td>\n",
              "      <td>60000000</td>\n",
              "      <td>122233971</td>\n",
              "      <td>Invictus</td>\n",
              "      <td>Morgan Freeman|Matt Damon|Tony Kgoroge|Patrick...</td>\n",
              "      <td>Clint Eastwood</td>\n",
              "      <td>His people needed a leader. He gave them a cha...</td>\n",
              "      <td>Newly elected President Nelson Mandela knows h...</td>\n",
              "      <td>134</td>\n",
              "      <td>Drama|History</td>\n",
              "      <td>Spyglass Entertainment|Malpaso Productions|Rev...</td>\n",
              "      <td>12/10/2009</td>\n",
              "      <td>6.9</td>\n",
              "      <td>2009</td>\n",
              "    </tr>\n",
              "    <tr>\n",
              "      <th>745</th>\n",
              "      <td>tt0983193</td>\n",
              "      <td>130000000</td>\n",
              "      <td>371940071</td>\n",
              "      <td>The Adventures of Tintin</td>\n",
              "      <td>Jamie Bell|Andy Serkis|Daniel Craig|Nick Frost...</td>\n",
              "      <td>Steven Spielberg</td>\n",
              "      <td>This year, discover how far adventure will tak...</td>\n",
              "      <td>Intrepid young reporter, Tintin and his loyal ...</td>\n",
              "      <td>107</td>\n",
              "      <td>Adventure|Animation|Action|Family|Mystery</td>\n",
              "      <td>Paramount Pictures|Columbia Pictures|WingNut F...</td>\n",
              "      <td>10/25/2011</td>\n",
              "      <td>6.6</td>\n",
              "      <td>2011</td>\n",
              "    </tr>\n",
              "    <tr>\n",
              "      <th>1217</th>\n",
              "      <td>tt1911644</td>\n",
              "      <td>13000000</td>\n",
              "      <td>68572378</td>\n",
              "      <td>The Call</td>\n",
              "      <td>Halle Berry|Abigail Breslin|Morris Chestnut|Mi...</td>\n",
              "      <td>Brad Anderson</td>\n",
              "      <td>There are 188 million 911 calls a year. This o...</td>\n",
              "      <td>Jordan Turner (Halle Berry) is an experienced ...</td>\n",
              "      <td>94</td>\n",
              "      <td>Thriller</td>\n",
              "      <td>TriStar Pictures|WWE Studios|Troika Pictures|E...</td>\n",
              "      <td>3/14/2013</td>\n",
              "      <td>6.6</td>\n",
              "      <td>2013</td>\n",
              "    </tr>\n",
              "  </tbody>\n",
              "</table>\n",
              "</div>"
            ],
            "text/plain": [
              "        imdb_id     budget    revenue  ... release_date vote_average release_year\n",
              "124   tt2245084  165000000  652105443  ...   10/24/2014          7.8         2014\n",
              "1175  tt0339034   12000000    4922166  ...    6/20/2003          3.5         2003\n",
              "323   tt1057500   60000000  122233971  ...   12/10/2009          6.9         2009\n",
              "745   tt0983193  130000000  371940071  ...   10/25/2011          6.6         2011\n",
              "1217  tt1911644   13000000   68572378  ...    3/14/2013          6.6         2013\n",
              "\n",
              "[5 rows x 14 columns]"
            ]
          },
          "metadata": {},
          "execution_count": 2
        }
      ]
    },
    {
      "cell_type": "code",
      "metadata": {
        "colab": {
          "base_uri": "https://localhost:8080/",
          "height": 297
        },
        "id": "CoYUnagMVp-C",
        "outputId": "2494b001-63e4-4abd-fb21-dfd8f566184f"
      },
      "source": [
        "data.describe()"
      ],
      "execution_count": 3,
      "outputs": [
        {
          "output_type": "execute_result",
          "data": {
            "text/html": [
              "<div>\n",
              "<style scoped>\n",
              "    .dataframe tbody tr th:only-of-type {\n",
              "        vertical-align: middle;\n",
              "    }\n",
              "\n",
              "    .dataframe tbody tr th {\n",
              "        vertical-align: top;\n",
              "    }\n",
              "\n",
              "    .dataframe thead th {\n",
              "        text-align: right;\n",
              "    }\n",
              "</style>\n",
              "<table border=\"1\" class=\"dataframe\">\n",
              "  <thead>\n",
              "    <tr style=\"text-align: right;\">\n",
              "      <th></th>\n",
              "      <th>budget</th>\n",
              "      <th>revenue</th>\n",
              "      <th>runtime</th>\n",
              "      <th>vote_average</th>\n",
              "      <th>release_year</th>\n",
              "    </tr>\n",
              "  </thead>\n",
              "  <tbody>\n",
              "    <tr>\n",
              "      <th>count</th>\n",
              "      <td>1.889000e+03</td>\n",
              "      <td>1.889000e+03</td>\n",
              "      <td>1889.000000</td>\n",
              "      <td>1889.000000</td>\n",
              "      <td>1889.000000</td>\n",
              "    </tr>\n",
              "    <tr>\n",
              "      <th>mean</th>\n",
              "      <td>5.431083e+07</td>\n",
              "      <td>1.553653e+08</td>\n",
              "      <td>109.658549</td>\n",
              "      <td>6.140762</td>\n",
              "      <td>2007.860773</td>\n",
              "    </tr>\n",
              "    <tr>\n",
              "      <th>std</th>\n",
              "      <td>4.858721e+07</td>\n",
              "      <td>2.146698e+08</td>\n",
              "      <td>18.017041</td>\n",
              "      <td>0.764763</td>\n",
              "      <td>4.468841</td>\n",
              "    </tr>\n",
              "    <tr>\n",
              "      <th>min</th>\n",
              "      <td>5.000000e+06</td>\n",
              "      <td>2.033165e+06</td>\n",
              "      <td>63.000000</td>\n",
              "      <td>3.300000</td>\n",
              "      <td>2000.000000</td>\n",
              "    </tr>\n",
              "    <tr>\n",
              "      <th>25%</th>\n",
              "      <td>2.000000e+07</td>\n",
              "      <td>3.456058e+07</td>\n",
              "      <td>97.000000</td>\n",
              "      <td>5.600000</td>\n",
              "      <td>2004.000000</td>\n",
              "    </tr>\n",
              "    <tr>\n",
              "      <th>50%</th>\n",
              "      <td>3.800000e+07</td>\n",
              "      <td>8.361541e+07</td>\n",
              "      <td>107.000000</td>\n",
              "      <td>6.100000</td>\n",
              "      <td>2008.000000</td>\n",
              "    </tr>\n",
              "    <tr>\n",
              "      <th>75%</th>\n",
              "      <td>7.200000e+07</td>\n",
              "      <td>1.782626e+08</td>\n",
              "      <td>120.000000</td>\n",
              "      <td>6.600000</td>\n",
              "      <td>2012.000000</td>\n",
              "    </tr>\n",
              "    <tr>\n",
              "      <th>max</th>\n",
              "      <td>3.800000e+08</td>\n",
              "      <td>2.781506e+09</td>\n",
              "      <td>214.000000</td>\n",
              "      <td>8.100000</td>\n",
              "      <td>2015.000000</td>\n",
              "    </tr>\n",
              "  </tbody>\n",
              "</table>\n",
              "</div>"
            ],
            "text/plain": [
              "             budget       revenue      runtime  vote_average  release_year\n",
              "count  1.889000e+03  1.889000e+03  1889.000000   1889.000000   1889.000000\n",
              "mean   5.431083e+07  1.553653e+08   109.658549      6.140762   2007.860773\n",
              "std    4.858721e+07  2.146698e+08    18.017041      0.764763      4.468841\n",
              "min    5.000000e+06  2.033165e+06    63.000000      3.300000   2000.000000\n",
              "25%    2.000000e+07  3.456058e+07    97.000000      5.600000   2004.000000\n",
              "50%    3.800000e+07  8.361541e+07   107.000000      6.100000   2008.000000\n",
              "75%    7.200000e+07  1.782626e+08   120.000000      6.600000   2012.000000\n",
              "max    3.800000e+08  2.781506e+09   214.000000      8.100000   2015.000000"
            ]
          },
          "metadata": {},
          "execution_count": 3
        }
      ]
    },
    {
      "cell_type": "markdown",
      "metadata": {
        "id": "DTIt7ezGVp-G"
      },
      "source": [
        "# Предобработка"
      ]
    },
    {
      "cell_type": "code",
      "metadata": {
        "id": "jNb40DwKVp-H"
      },
      "source": [
        "answers = {} # создадим словарь для ответов\n",
        "\n",
        "data['profit']=data['revenue']-data['budget']\n",
        "# тут другие ваши предобработки колонок например:\n",
        "\n",
        "#the time given in the dataset is in string format.\n",
        "#So we need to change this in datetime format\n",
        "# ..."
      ],
      "execution_count": 14,
      "outputs": []
    },
    {
      "cell_type": "markdown",
      "metadata": {
        "id": "YxZaH-nPVp-L"
      },
      "source": [
        "# 1. У какого фильма из списка самый большой бюджет?"
      ]
    },
    {
      "cell_type": "markdown",
      "metadata": {
        "id": "Nd-G5gX6Vp-M"
      },
      "source": [
        "Использовать варианты ответов в коде решения запрещено.    \n",
        "Вы думаете и в жизни у вас будут варианты ответов?)"
      ]
    },
    {
      "cell_type": "code",
      "metadata": {
        "id": "uVnXAY5RVp-O"
      },
      "source": [
        "# в словарь вставляем номер вопроса и ваш ответ на него\n",
        "# Пример: \n",
        "# answers['1'] = '2. Spider-Man 3 (tt0413300)'\n",
        "# запишите свой вариант ответа\n",
        "answers['1'] = 'Pirates of the Caribbean: On Stranger Tides'\n",
        "# если ответили верно, можете добавить комментарий со значком \"+\""
      ],
      "execution_count": 181,
      "outputs": []
    },
    {
      "cell_type": "code",
      "metadata": {
        "colab": {
          "base_uri": "https://localhost:8080/",
          "height": 185
        },
        "id": "dZwb3m28Vp-S",
        "outputId": "26b513a8-8469-4b3d-f30a-2d48d99d0c0c"
      },
      "source": [
        "# тут пишем ваш код для решения данного вопроса:\n",
        "data[data.budget == data.budget.max()] # выбираем максильный бюджет"
      ],
      "execution_count": 5,
      "outputs": [
        {
          "output_type": "execute_result",
          "data": {
            "text/html": [
              "<div>\n",
              "<style scoped>\n",
              "    .dataframe tbody tr th:only-of-type {\n",
              "        vertical-align: middle;\n",
              "    }\n",
              "\n",
              "    .dataframe tbody tr th {\n",
              "        vertical-align: top;\n",
              "    }\n",
              "\n",
              "    .dataframe thead th {\n",
              "        text-align: right;\n",
              "    }\n",
              "</style>\n",
              "<table border=\"1\" class=\"dataframe\">\n",
              "  <thead>\n",
              "    <tr style=\"text-align: right;\">\n",
              "      <th></th>\n",
              "      <th>imdb_id</th>\n",
              "      <th>budget</th>\n",
              "      <th>revenue</th>\n",
              "      <th>original_title</th>\n",
              "      <th>cast</th>\n",
              "      <th>director</th>\n",
              "      <th>tagline</th>\n",
              "      <th>overview</th>\n",
              "      <th>runtime</th>\n",
              "      <th>genres</th>\n",
              "      <th>production_companies</th>\n",
              "      <th>release_date</th>\n",
              "      <th>vote_average</th>\n",
              "      <th>release_year</th>\n",
              "    </tr>\n",
              "  </thead>\n",
              "  <tbody>\n",
              "    <tr>\n",
              "      <th>723</th>\n",
              "      <td>tt1298650</td>\n",
              "      <td>380000000</td>\n",
              "      <td>1021683000</td>\n",
              "      <td>Pirates of the Caribbean: On Stranger Tides</td>\n",
              "      <td>Johnny Depp|PenÃ©lope Cruz|Geoffrey Rush|Ian M...</td>\n",
              "      <td>Rob Marshall</td>\n",
              "      <td>Live Forever Or Die Trying.</td>\n",
              "      <td>Captain Jack Sparrow crosses paths with a woma...</td>\n",
              "      <td>136</td>\n",
              "      <td>Adventure|Action|Fantasy</td>\n",
              "      <td>Walt Disney Pictures|Jerry Bruckheimer Films|M...</td>\n",
              "      <td>5/11/2011</td>\n",
              "      <td>6.3</td>\n",
              "      <td>2011</td>\n",
              "    </tr>\n",
              "  </tbody>\n",
              "</table>\n",
              "</div>"
            ],
            "text/plain": [
              "       imdb_id     budget     revenue  ... release_date vote_average release_year\n",
              "723  tt1298650  380000000  1021683000  ...    5/11/2011          6.3         2011\n",
              "\n",
              "[1 rows x 14 columns]"
            ]
          },
          "metadata": {},
          "execution_count": 5
        }
      ]
    },
    {
      "cell_type": "markdown",
      "metadata": {
        "id": "K7L3nbRXVp-X"
      },
      "source": [
        "ВАРИАНТ 2"
      ]
    },
    {
      "cell_type": "code",
      "metadata": {
        "id": "OGaoQI7rVp-X"
      },
      "source": [
        "# можно добавлять разные варианты решения"
      ],
      "execution_count": null,
      "outputs": []
    },
    {
      "cell_type": "markdown",
      "metadata": {
        "id": "FNRbbI3vVp-c"
      },
      "source": [
        "# 2. Какой из фильмов самый длительный (в минутах)?"
      ]
    },
    {
      "cell_type": "code",
      "metadata": {
        "id": "vHAoEXNTVp-d"
      },
      "source": [
        "# думаю логику работы с этим словарем вы уже поняли, \n",
        "# по этому не буду больше его дублировать\n",
        "answers['2'] = 'Gods and Generals'"
      ],
      "execution_count": 182,
      "outputs": []
    },
    {
      "cell_type": "code",
      "metadata": {
        "colab": {
          "base_uri": "https://localhost:8080/",
          "height": 185
        },
        "id": "ot-VX2XrVp-g",
        "outputId": "e50556fa-3c41-4e28-fd43-01bf211e79de"
      },
      "source": [
        "data[data.runtime == data.runtime.max()] # максимальное время"
      ],
      "execution_count": 15,
      "outputs": [
        {
          "output_type": "execute_result",
          "data": {
            "text/html": [
              "<div>\n",
              "<style scoped>\n",
              "    .dataframe tbody tr th:only-of-type {\n",
              "        vertical-align: middle;\n",
              "    }\n",
              "\n",
              "    .dataframe tbody tr th {\n",
              "        vertical-align: top;\n",
              "    }\n",
              "\n",
              "    .dataframe thead th {\n",
              "        text-align: right;\n",
              "    }\n",
              "</style>\n",
              "<table border=\"1\" class=\"dataframe\">\n",
              "  <thead>\n",
              "    <tr style=\"text-align: right;\">\n",
              "      <th></th>\n",
              "      <th>imdb_id</th>\n",
              "      <th>budget</th>\n",
              "      <th>revenue</th>\n",
              "      <th>original_title</th>\n",
              "      <th>cast</th>\n",
              "      <th>director</th>\n",
              "      <th>tagline</th>\n",
              "      <th>overview</th>\n",
              "      <th>runtime</th>\n",
              "      <th>genres</th>\n",
              "      <th>production_companies</th>\n",
              "      <th>release_date</th>\n",
              "      <th>vote_average</th>\n",
              "      <th>release_year</th>\n",
              "      <th>profit</th>\n",
              "    </tr>\n",
              "  </thead>\n",
              "  <tbody>\n",
              "    <tr>\n",
              "      <th>1157</th>\n",
              "      <td>tt0279111</td>\n",
              "      <td>56000000</td>\n",
              "      <td>12923936</td>\n",
              "      <td>Gods and Generals</td>\n",
              "      <td>Stephen Lang|Jeff Daniels|Robert Duvall|Kevin ...</td>\n",
              "      <td>Ronald F. Maxwell</td>\n",
              "      <td>The nations heart was touched by...</td>\n",
              "      <td>The film centers mostly around the personal an...</td>\n",
              "      <td>214</td>\n",
              "      <td>Drama|History|War</td>\n",
              "      <td>Turner Pictures|Antietam Filmworks</td>\n",
              "      <td>2/21/2003</td>\n",
              "      <td>5.8</td>\n",
              "      <td>2003</td>\n",
              "      <td>-43076064</td>\n",
              "    </tr>\n",
              "  </tbody>\n",
              "</table>\n",
              "</div>"
            ],
            "text/plain": [
              "        imdb_id    budget   revenue  ... vote_average release_year    profit\n",
              "1157  tt0279111  56000000  12923936  ...          5.8         2003 -43076064\n",
              "\n",
              "[1 rows x 15 columns]"
            ]
          },
          "metadata": {},
          "execution_count": 15
        }
      ]
    },
    {
      "cell_type": "markdown",
      "metadata": {
        "id": "bapLlpW8Vp-k"
      },
      "source": [
        "# 3. Какой из фильмов самый короткий (в минутах)?\n",
        "\n",
        "\n",
        "\n"
      ]
    },
    {
      "cell_type": "code",
      "metadata": {
        "colab": {
          "base_uri": "https://localhost:8080/",
          "height": 202
        },
        "id": "YBxaSHuAVp-l",
        "outputId": "72afd41c-7f43-4669-ce68-2919810efbc7"
      },
      "source": [
        "answers['3'] = 'Winnie the Pooh'\n",
        "data[data.runtime == data.runtime.min()] # минимальное время"
      ],
      "execution_count": 183,
      "outputs": [
        {
          "output_type": "execute_result",
          "data": {
            "text/html": [
              "<div>\n",
              "<style scoped>\n",
              "    .dataframe tbody tr th:only-of-type {\n",
              "        vertical-align: middle;\n",
              "    }\n",
              "\n",
              "    .dataframe tbody tr th {\n",
              "        vertical-align: top;\n",
              "    }\n",
              "\n",
              "    .dataframe thead th {\n",
              "        text-align: right;\n",
              "    }\n",
              "</style>\n",
              "<table border=\"1\" class=\"dataframe\">\n",
              "  <thead>\n",
              "    <tr style=\"text-align: right;\">\n",
              "      <th></th>\n",
              "      <th>imdb_id</th>\n",
              "      <th>budget</th>\n",
              "      <th>revenue</th>\n",
              "      <th>original_title</th>\n",
              "      <th>cast</th>\n",
              "      <th>director</th>\n",
              "      <th>tagline</th>\n",
              "      <th>overview</th>\n",
              "      <th>runtime</th>\n",
              "      <th>genres</th>\n",
              "      <th>production_companies</th>\n",
              "      <th>release_date</th>\n",
              "      <th>vote_average</th>\n",
              "      <th>release_year</th>\n",
              "      <th>profit</th>\n",
              "      <th>Action</th>\n",
              "      <th>action</th>\n",
              "      <th>paramount</th>\n",
              "      <th>warner</th>\n",
              "      <th>month</th>\n",
              "    </tr>\n",
              "  </thead>\n",
              "  <tbody>\n",
              "    <tr>\n",
              "      <th>768</th>\n",
              "      <td>tt1449283</td>\n",
              "      <td>30000000</td>\n",
              "      <td>14460000</td>\n",
              "      <td>Winnie the Pooh</td>\n",
              "      <td>Jim Cummings|Travis Oates|Jim Cummings|Bud Luc...</td>\n",
              "      <td>Stephen Anderson|Don Hall</td>\n",
              "      <td>Oh Pooh.</td>\n",
              "      <td>During an ordinary day in Hundred Acre Wood, W...</td>\n",
              "      <td>63</td>\n",
              "      <td>Animation|Family</td>\n",
              "      <td>Walt Disney Pictures|Walt Disney Animation Stu...</td>\n",
              "      <td>2011-04-13</td>\n",
              "      <td>6.8</td>\n",
              "      <td>2011</td>\n",
              "      <td>-15540000</td>\n",
              "      <td>0</td>\n",
              "      <td>0</td>\n",
              "      <td>False</td>\n",
              "      <td>False</td>\n",
              "      <td>4</td>\n",
              "    </tr>\n",
              "  </tbody>\n",
              "</table>\n",
              "</div>"
            ],
            "text/plain": [
              "       imdb_id    budget   revenue  ... paramount warner month\n",
              "768  tt1449283  30000000  14460000  ...     False  False     4\n",
              "\n",
              "[1 rows x 20 columns]"
            ]
          },
          "metadata": {},
          "execution_count": 183
        }
      ]
    },
    {
      "cell_type": "markdown",
      "metadata": {
        "id": "TfQbxbfNVp-p"
      },
      "source": [
        "# 4. Какова средняя длительность фильмов?\n"
      ]
    },
    {
      "cell_type": "code",
      "metadata": {
        "colab": {
          "base_uri": "https://localhost:8080/"
        },
        "id": "5K6dKZYVVp-q",
        "outputId": "f12934c3-5b0c-4a9b-ad61-e37df5a90cce"
      },
      "source": [
        "answers['4'] = '110'\n",
        "data['runtime'].mean() # среднее значение"
      ],
      "execution_count": 184,
      "outputs": [
        {
          "output_type": "execute_result",
          "data": {
            "text/plain": [
              "109.6585494970884"
            ]
          },
          "metadata": {},
          "execution_count": 184
        }
      ]
    },
    {
      "cell_type": "markdown",
      "metadata": {
        "id": "r5TvbnT_Vp-u"
      },
      "source": [
        "# 5. Каково медианное значение длительности фильмов? "
      ]
    },
    {
      "cell_type": "code",
      "metadata": {
        "colab": {
          "base_uri": "https://localhost:8080/"
        },
        "id": "iBROplKnVp-v",
        "outputId": "6922b080-19b7-4d6c-e4a8-242e199bfa84"
      },
      "source": [
        "answers['5'] = '107'\n",
        "data['runtime'].median() # медиана значений"
      ],
      "execution_count": 185,
      "outputs": [
        {
          "output_type": "execute_result",
          "data": {
            "text/plain": [
              "107.0"
            ]
          },
          "metadata": {},
          "execution_count": 185
        }
      ]
    },
    {
      "cell_type": "markdown",
      "metadata": {
        "id": "39P-deDSVp-y"
      },
      "source": [
        "# 6. Какой самый прибыльный фильм?\n",
        "#### Внимание! Здесь и далее под «прибылью» или «убытками» понимается разность между сборами и бюджетом фильма. (прибыль = сборы - бюджет) в нашем датасете это будет (profit = revenue - budget) "
      ]
    },
    {
      "cell_type": "code",
      "metadata": {
        "colab": {
          "base_uri": "https://localhost:8080/",
          "height": 185
        },
        "id": "UYZh4T9WVp-y",
        "outputId": "95a2a2fb-4143-41d3-caea-673e0ad2a468"
      },
      "source": [
        "# лучше код получения столбца profit вынести в Предобработку что в начале\n",
        "answers['6']= 'Avatar'\n",
        "data[data.profit == data.profit.max()] # максимальный профит"
      ],
      "execution_count": 186,
      "outputs": [
        {
          "output_type": "execute_result",
          "data": {
            "text/html": [
              "<div>\n",
              "<style scoped>\n",
              "    .dataframe tbody tr th:only-of-type {\n",
              "        vertical-align: middle;\n",
              "    }\n",
              "\n",
              "    .dataframe tbody tr th {\n",
              "        vertical-align: top;\n",
              "    }\n",
              "\n",
              "    .dataframe thead th {\n",
              "        text-align: right;\n",
              "    }\n",
              "</style>\n",
              "<table border=\"1\" class=\"dataframe\">\n",
              "  <thead>\n",
              "    <tr style=\"text-align: right;\">\n",
              "      <th></th>\n",
              "      <th>imdb_id</th>\n",
              "      <th>budget</th>\n",
              "      <th>revenue</th>\n",
              "      <th>original_title</th>\n",
              "      <th>cast</th>\n",
              "      <th>director</th>\n",
              "      <th>tagline</th>\n",
              "      <th>overview</th>\n",
              "      <th>runtime</th>\n",
              "      <th>genres</th>\n",
              "      <th>production_companies</th>\n",
              "      <th>release_date</th>\n",
              "      <th>vote_average</th>\n",
              "      <th>release_year</th>\n",
              "      <th>profit</th>\n",
              "      <th>Action</th>\n",
              "      <th>action</th>\n",
              "      <th>paramount</th>\n",
              "      <th>warner</th>\n",
              "      <th>month</th>\n",
              "    </tr>\n",
              "  </thead>\n",
              "  <tbody>\n",
              "    <tr>\n",
              "      <th>239</th>\n",
              "      <td>tt0499549</td>\n",
              "      <td>237000000</td>\n",
              "      <td>2781505847</td>\n",
              "      <td>Avatar</td>\n",
              "      <td>Sam Worthington|Zoe Saldana|Sigourney Weaver|S...</td>\n",
              "      <td>James Cameron</td>\n",
              "      <td>Enter the World of Pandora.</td>\n",
              "      <td>In the 22nd century, a paraplegic Marine is di...</td>\n",
              "      <td>162</td>\n",
              "      <td>Action|Adventure|Fantasy|Science Fiction</td>\n",
              "      <td>Ingenious Film Partners|Twentieth Century Fox ...</td>\n",
              "      <td>2009-12-10</td>\n",
              "      <td>7.1</td>\n",
              "      <td>2009</td>\n",
              "      <td>2544505847</td>\n",
              "      <td>1</td>\n",
              "      <td>1</td>\n",
              "      <td>False</td>\n",
              "      <td>False</td>\n",
              "      <td>12</td>\n",
              "    </tr>\n",
              "  </tbody>\n",
              "</table>\n",
              "</div>"
            ],
            "text/plain": [
              "       imdb_id     budget     revenue  ... paramount warner month\n",
              "239  tt0499549  237000000  2781505847  ...     False  False    12\n",
              "\n",
              "[1 rows x 20 columns]"
            ]
          },
          "metadata": {},
          "execution_count": 186
        }
      ]
    },
    {
      "cell_type": "markdown",
      "metadata": {
        "id": "M99JmIX4Vp-2"
      },
      "source": [
        "# 7. Какой фильм самый убыточный? "
      ]
    },
    {
      "cell_type": "code",
      "metadata": {
        "colab": {
          "base_uri": "https://localhost:8080/",
          "height": 185
        },
        "id": "w-D2m4XPVp-3",
        "outputId": "636afd3e-5813-4cee-b2a9-520b6fc4460e"
      },
      "source": [
        "answers['7']= 'The Lone Ranger'\n",
        "data[data.profit == data.profit.min()] # минимальный профит"
      ],
      "execution_count": 187,
      "outputs": [
        {
          "output_type": "execute_result",
          "data": {
            "text/html": [
              "<div>\n",
              "<style scoped>\n",
              "    .dataframe tbody tr th:only-of-type {\n",
              "        vertical-align: middle;\n",
              "    }\n",
              "\n",
              "    .dataframe tbody tr th {\n",
              "        vertical-align: top;\n",
              "    }\n",
              "\n",
              "    .dataframe thead th {\n",
              "        text-align: right;\n",
              "    }\n",
              "</style>\n",
              "<table border=\"1\" class=\"dataframe\">\n",
              "  <thead>\n",
              "    <tr style=\"text-align: right;\">\n",
              "      <th></th>\n",
              "      <th>imdb_id</th>\n",
              "      <th>budget</th>\n",
              "      <th>revenue</th>\n",
              "      <th>original_title</th>\n",
              "      <th>cast</th>\n",
              "      <th>director</th>\n",
              "      <th>tagline</th>\n",
              "      <th>overview</th>\n",
              "      <th>runtime</th>\n",
              "      <th>genres</th>\n",
              "      <th>production_companies</th>\n",
              "      <th>release_date</th>\n",
              "      <th>vote_average</th>\n",
              "      <th>release_year</th>\n",
              "      <th>profit</th>\n",
              "      <th>Action</th>\n",
              "      <th>action</th>\n",
              "      <th>paramount</th>\n",
              "      <th>warner</th>\n",
              "      <th>month</th>\n",
              "    </tr>\n",
              "  </thead>\n",
              "  <tbody>\n",
              "    <tr>\n",
              "      <th>1245</th>\n",
              "      <td>tt1210819</td>\n",
              "      <td>255000000</td>\n",
              "      <td>89289910</td>\n",
              "      <td>The Lone Ranger</td>\n",
              "      <td>Johnny Depp|Armie Hammer|William Fichtner|Hele...</td>\n",
              "      <td>Gore Verbinski</td>\n",
              "      <td>Never Take Off the Mask</td>\n",
              "      <td>The Texas Rangers chase down a gang of outlaws...</td>\n",
              "      <td>149</td>\n",
              "      <td>Action|Adventure|Western</td>\n",
              "      <td>Walt Disney Pictures|Jerry Bruckheimer Films|I...</td>\n",
              "      <td>2013-07-03</td>\n",
              "      <td>6.0</td>\n",
              "      <td>2013</td>\n",
              "      <td>-165710090</td>\n",
              "      <td>1</td>\n",
              "      <td>1</td>\n",
              "      <td>False</td>\n",
              "      <td>False</td>\n",
              "      <td>7</td>\n",
              "    </tr>\n",
              "  </tbody>\n",
              "</table>\n",
              "</div>"
            ],
            "text/plain": [
              "        imdb_id     budget   revenue  ... paramount warner month\n",
              "1245  tt1210819  255000000  89289910  ...     False  False     7\n",
              "\n",
              "[1 rows x 20 columns]"
            ]
          },
          "metadata": {},
          "execution_count": 187
        }
      ]
    },
    {
      "cell_type": "markdown",
      "metadata": {
        "id": "wEOM5ERVVp-6"
      },
      "source": [
        "# 8. У скольких фильмов из датасета объем сборов оказался выше бюджета?"
      ]
    },
    {
      "cell_type": "code",
      "metadata": {
        "colab": {
          "base_uri": "https://localhost:8080/"
        },
        "id": "y00_7HD6Vp-7",
        "outputId": "53083311-55c9-4185-84bc-2e6984a5ecaa"
      },
      "source": [
        "answers['8']= '1478'\n",
        "len(data[data.revenue > data.budget]) # кол-во фильмов"
      ],
      "execution_count": 188,
      "outputs": [
        {
          "output_type": "execute_result",
          "data": {
            "text/plain": [
              "1478"
            ]
          },
          "metadata": {},
          "execution_count": 188
        }
      ]
    },
    {
      "cell_type": "markdown",
      "metadata": {
        "id": "xhpspA9KVp_A"
      },
      "source": [
        "# 9. Какой фильм оказался самым кассовым в 2008 году?"
      ]
    },
    {
      "cell_type": "code",
      "metadata": {
        "colab": {
          "base_uri": "https://localhost:8080/",
          "height": 168
        },
        "id": "MoUyQr9RVp_B",
        "outputId": "bde80bff-ea7c-4ee8-df5f-cc18e0dc4fc1"
      },
      "source": [
        "answers['9']= 'The Dark Knight'\n",
        "data_2008 = data[data.release_year == 2008] # выделяем только 2008 год\n",
        "data_2008[data_2008.profit == data_2008.profit.max()] # максимальный профит в 2008 году"
      ],
      "execution_count": 189,
      "outputs": [
        {
          "output_type": "execute_result",
          "data": {
            "text/html": [
              "<div>\n",
              "<style scoped>\n",
              "    .dataframe tbody tr th:only-of-type {\n",
              "        vertical-align: middle;\n",
              "    }\n",
              "\n",
              "    .dataframe tbody tr th {\n",
              "        vertical-align: top;\n",
              "    }\n",
              "\n",
              "    .dataframe thead th {\n",
              "        text-align: right;\n",
              "    }\n",
              "</style>\n",
              "<table border=\"1\" class=\"dataframe\">\n",
              "  <thead>\n",
              "    <tr style=\"text-align: right;\">\n",
              "      <th></th>\n",
              "      <th>imdb_id</th>\n",
              "      <th>budget</th>\n",
              "      <th>revenue</th>\n",
              "      <th>original_title</th>\n",
              "      <th>cast</th>\n",
              "      <th>director</th>\n",
              "      <th>tagline</th>\n",
              "      <th>overview</th>\n",
              "      <th>runtime</th>\n",
              "      <th>genres</th>\n",
              "      <th>production_companies</th>\n",
              "      <th>release_date</th>\n",
              "      <th>vote_average</th>\n",
              "      <th>release_year</th>\n",
              "      <th>profit</th>\n",
              "      <th>Action</th>\n",
              "      <th>action</th>\n",
              "      <th>paramount</th>\n",
              "      <th>warner</th>\n",
              "      <th>month</th>\n",
              "    </tr>\n",
              "  </thead>\n",
              "  <tbody>\n",
              "    <tr>\n",
              "      <th>599</th>\n",
              "      <td>tt0468569</td>\n",
              "      <td>185000000</td>\n",
              "      <td>1001921825</td>\n",
              "      <td>The Dark Knight</td>\n",
              "      <td>Christian Bale|Michael Caine|Heath Ledger|Aaro...</td>\n",
              "      <td>Christopher Nolan</td>\n",
              "      <td>Why So Serious?</td>\n",
              "      <td>Batman raises the stakes in his war on crime. ...</td>\n",
              "      <td>152</td>\n",
              "      <td>Drama|Action|Crime|Thriller</td>\n",
              "      <td>DC Comics|Legendary Pictures|Warner Bros.|Syncopy</td>\n",
              "      <td>2008-07-16</td>\n",
              "      <td>8.1</td>\n",
              "      <td>2008</td>\n",
              "      <td>816921825</td>\n",
              "      <td>1</td>\n",
              "      <td>1</td>\n",
              "      <td>False</td>\n",
              "      <td>True</td>\n",
              "      <td>7</td>\n",
              "    </tr>\n",
              "  </tbody>\n",
              "</table>\n",
              "</div>"
            ],
            "text/plain": [
              "       imdb_id     budget     revenue  ... paramount warner month\n",
              "599  tt0468569  185000000  1001921825  ...     False   True     7\n",
              "\n",
              "[1 rows x 20 columns]"
            ]
          },
          "metadata": {},
          "execution_count": 189
        }
      ]
    },
    {
      "cell_type": "markdown",
      "metadata": {
        "id": "Zi4hDKidVp_F"
      },
      "source": [
        "# 10. Самый убыточный фильм за период с 2012 по 2014 г. (включительно)?\n"
      ]
    },
    {
      "cell_type": "code",
      "metadata": {
        "colab": {
          "base_uri": "https://localhost:8080/",
          "height": 185
        },
        "id": "XqyRmufJVp_F",
        "outputId": "9c86e29d-3ee4-4171-c1db-36ff53149edb"
      },
      "source": [
        "answers['10']= 'The Lone Ranger'\n",
        "data_2012to14 = data[(data.release_year>=2012) & (data.release_year<=2014)] # выделяем года\n",
        "data_2012to14[data_2012to14.profit == data_2012to14.profit.min()] # находим фильм в эти года"
      ],
      "execution_count": 190,
      "outputs": [
        {
          "output_type": "execute_result",
          "data": {
            "text/html": [
              "<div>\n",
              "<style scoped>\n",
              "    .dataframe tbody tr th:only-of-type {\n",
              "        vertical-align: middle;\n",
              "    }\n",
              "\n",
              "    .dataframe tbody tr th {\n",
              "        vertical-align: top;\n",
              "    }\n",
              "\n",
              "    .dataframe thead th {\n",
              "        text-align: right;\n",
              "    }\n",
              "</style>\n",
              "<table border=\"1\" class=\"dataframe\">\n",
              "  <thead>\n",
              "    <tr style=\"text-align: right;\">\n",
              "      <th></th>\n",
              "      <th>imdb_id</th>\n",
              "      <th>budget</th>\n",
              "      <th>revenue</th>\n",
              "      <th>original_title</th>\n",
              "      <th>cast</th>\n",
              "      <th>director</th>\n",
              "      <th>tagline</th>\n",
              "      <th>overview</th>\n",
              "      <th>runtime</th>\n",
              "      <th>genres</th>\n",
              "      <th>production_companies</th>\n",
              "      <th>release_date</th>\n",
              "      <th>vote_average</th>\n",
              "      <th>release_year</th>\n",
              "      <th>profit</th>\n",
              "      <th>Action</th>\n",
              "      <th>action</th>\n",
              "      <th>paramount</th>\n",
              "      <th>warner</th>\n",
              "      <th>month</th>\n",
              "    </tr>\n",
              "  </thead>\n",
              "  <tbody>\n",
              "    <tr>\n",
              "      <th>1245</th>\n",
              "      <td>tt1210819</td>\n",
              "      <td>255000000</td>\n",
              "      <td>89289910</td>\n",
              "      <td>The Lone Ranger</td>\n",
              "      <td>Johnny Depp|Armie Hammer|William Fichtner|Hele...</td>\n",
              "      <td>Gore Verbinski</td>\n",
              "      <td>Never Take Off the Mask</td>\n",
              "      <td>The Texas Rangers chase down a gang of outlaws...</td>\n",
              "      <td>149</td>\n",
              "      <td>Action|Adventure|Western</td>\n",
              "      <td>Walt Disney Pictures|Jerry Bruckheimer Films|I...</td>\n",
              "      <td>2013-07-03</td>\n",
              "      <td>6.0</td>\n",
              "      <td>2013</td>\n",
              "      <td>-165710090</td>\n",
              "      <td>1</td>\n",
              "      <td>1</td>\n",
              "      <td>False</td>\n",
              "      <td>False</td>\n",
              "      <td>7</td>\n",
              "    </tr>\n",
              "  </tbody>\n",
              "</table>\n",
              "</div>"
            ],
            "text/plain": [
              "        imdb_id     budget   revenue  ... paramount warner month\n",
              "1245  tt1210819  255000000  89289910  ...     False  False     7\n",
              "\n",
              "[1 rows x 20 columns]"
            ]
          },
          "metadata": {},
          "execution_count": 190
        }
      ]
    },
    {
      "cell_type": "markdown",
      "metadata": {
        "id": "EA7Sa9dkVp_I"
      },
      "source": [
        "# 11. Какого жанра фильмов больше всего?"
      ]
    },
    {
      "cell_type": "code",
      "metadata": {
        "colab": {
          "base_uri": "https://localhost:8080/"
        },
        "id": "zsJAwJ8QVp_J",
        "outputId": "9ee0b06d-8850-4395-a987-a1c0e3542fa5"
      },
      "source": [
        "answers['11']= 'Drama'\n",
        "\n",
        "\n",
        "pd.DataFrame(data.genres.str.split('|').tolist()).stack().value_counts() # сплитуем через '|' и приводим к списку, считая значения"
      ],
      "execution_count": 191,
      "outputs": [
        {
          "output_type": "execute_result",
          "data": {
            "text/plain": [
              "Drama              782\n",
              "Comedy             683\n",
              "Thriller           596\n",
              "Action             582\n",
              "Adventure          415\n",
              "Crime              315\n",
              "Romance            308\n",
              "Family             260\n",
              "Science Fiction    248\n",
              "Fantasy            222\n",
              "Horror             176\n",
              "Mystery            168\n",
              "Animation          139\n",
              "Music               64\n",
              "History             62\n",
              "War                 58\n",
              "Western             19\n",
              "Documentary          8\n",
              "Foreign              2\n",
              "dtype: int64"
            ]
          },
          "metadata": {},
          "execution_count": 191
        }
      ]
    },
    {
      "cell_type": "markdown",
      "metadata": {
        "id": "Ax6g2C8SVp_M"
      },
      "source": [
        "ВАРИАНТ 2"
      ]
    },
    {
      "cell_type": "code",
      "metadata": {
        "id": "otO3SbrSVp_N"
      },
      "source": [
        ""
      ],
      "execution_count": null,
      "outputs": []
    },
    {
      "cell_type": "markdown",
      "metadata": {
        "id": "T9_bPWpkVp_Q"
      },
      "source": [
        "# 12. Фильмы какого жанра чаще всего становятся прибыльными? "
      ]
    },
    {
      "cell_type": "code",
      "metadata": {
        "colab": {
          "base_uri": "https://localhost:8080/"
        },
        "id": "Tmt8MaK1Vp_R",
        "outputId": "b1b758f1-b39d-4297-c7d3-ae57ca624026"
      },
      "source": [
        "answers['12']= 'Comedy'\n",
        "\n",
        "data_with_profit = data[data.profit > 0] # выбираем только прибыльные фильмы\n",
        "data_with_profit['genres'].value_counts() # подсичтываем упоминание жанров"
      ],
      "execution_count": 192,
      "outputs": [
        {
          "output_type": "execute_result",
          "data": {
            "text/plain": [
              "Comedy                                             121\n",
              "Drama                                               70\n",
              "Comedy|Romance                                      52\n",
              "Drama|Romance                                       38\n",
              "Horror|Thriller                                     31\n",
              "                                                  ... \n",
              "Drama|Science Fiction|Thriller                       1\n",
              "Comedy|Drama|Romance|Thriller                        1\n",
              "Comedy|Adventure|Fantasy|Action|Science Fiction      1\n",
              "War|Drama|Action                                     1\n",
              "Fantasy|Drama|Thriller|Romance                       1\n",
              "Name: genres, Length: 548, dtype: int64"
            ]
          },
          "metadata": {},
          "execution_count": 192
        }
      ]
    },
    {
      "cell_type": "markdown",
      "metadata": {
        "id": "0F23bgsDVp_U"
      },
      "source": [
        "# 13. У какого режиссера самые большие суммарные кассовые сборы?"
      ]
    },
    {
      "cell_type": "code",
      "metadata": {
        "colab": {
          "base_uri": "https://localhost:8080/"
        },
        "id": "K6Z3J8ygVp_X",
        "outputId": "cce83b71-470d-42b5-addf-262a0b96a2fd"
      },
      "source": [
        "answers['13']= 'Peter Jackson'\n",
        "\n",
        "data_sum = data[['director', 'revenue']] # новая таблица для удобства\n",
        "m=0\n",
        "m1=''\n",
        "for i in data_sum['director'].unique(): # выделяем режисеров\n",
        "  a = data_sum[data_sum.director == i].revenue.sum() # считаем суммарные сборы\n",
        "  if a > m: #проверка на максимальное число сборов\n",
        "    m = max(a,m)\n",
        "    m1=i\n",
        "print(m,m1)"
      ],
      "execution_count": 193,
      "outputs": [
        {
          "output_type": "stream",
          "name": "stdout",
          "text": [
            "6490593685 Peter Jackson\n"
          ]
        }
      ]
    },
    {
      "cell_type": "markdown",
      "metadata": {
        "id": "PsYC9FgRVp_a"
      },
      "source": [
        "# 14. Какой режисер снял больше всего фильмов в стиле Action?"
      ]
    },
    {
      "cell_type": "code",
      "metadata": {
        "colab": {
          "base_uri": "https://localhost:8080/"
        },
        "id": "wd2M-wHeVp_b",
        "outputId": "8f7628b1-b84b-4780-b29f-fb0b21b1101a"
      },
      "source": [
        "answers['14']= 'Michael Bay'\n",
        "def action(x): # функция, определяющая, является ли фильм в стиле Action\n",
        "  if 'Action' in x:\n",
        "    return 1\n",
        "  else:\n",
        "    return 0\n",
        "\n",
        "data['action'] = data.genres.apply(action) # новый столбец со значениями\n",
        "data_action = data[['director', 'action']] # новая таблица для удобства\n",
        "m=0\n",
        "m1=''\n",
        "for i in data_action['director'].unique(): # перебираем режисеров\n",
        "  a = data_action[data_action.director == i].action.sum() # подсчитываем кол-во фильмов\n",
        "  if a > m: # проверяем на наибольшее кол-во фильмов\n",
        "    m = max(a,m)\n",
        "    m1=i\n",
        "print(m,m1)"
      ],
      "execution_count": 194,
      "outputs": [
        {
          "output_type": "stream",
          "name": "stdout",
          "text": [
            "7 Michael Bay\n"
          ]
        }
      ]
    },
    {
      "cell_type": "markdown",
      "metadata": {
        "id": "PQ0KciD7Vp_f"
      },
      "source": [
        "# 15. Фильмы с каким актером принесли самые высокие кассовые сборы в 2012 году? "
      ]
    },
    {
      "cell_type": "code",
      "metadata": {
        "colab": {
          "base_uri": "https://localhost:8080/",
          "height": 36
        },
        "id": "aga62oeKVp_g",
        "outputId": "8ea49b93-03a9-46d1-81aa-ae1ae7f5a77e"
      },
      "source": [
        "answers['15']= 'Chris Hemsworth'\n",
        "m=0\n",
        "m_name=''\n",
        "cast_revenue = {}\n",
        "data_2012 = data[data.release_year == 2012] # отбираем тольфо 2012 год\n",
        "for actor in cast: # проходимся по актерам\n",
        "  data_tmp = data_2012[data_2012['cast'].map(lambda x: True if actor in x else False)]\n",
        "  cast_revenue[actor] = data_tmp.revenue.sum()\n",
        "max(cast_revenue, key=cast_revenue.get) # находим максимальное кол-во упоминаний акетра, key нужен при работе со словарями"
      ],
      "execution_count": 207,
      "outputs": [
        {
          "output_type": "execute_result",
          "data": {
            "application/vnd.google.colaboratory.intrinsic+json": {
              "type": "string"
            },
            "text/plain": [
              "'Chris Hemsworth'"
            ]
          },
          "metadata": {},
          "execution_count": 207
        }
      ]
    },
    {
      "cell_type": "markdown",
      "metadata": {
        "id": "mWHyyL7QVp_j"
      },
      "source": [
        "# 16. Какой актер снялся в большем количестве высокобюджетных фильмов?"
      ]
    },
    {
      "cell_type": "code",
      "metadata": {
        "colab": {
          "base_uri": "https://localhost:8080/"
        },
        "id": "qQtmHKTFVp_k",
        "outputId": "eb2ddf2c-a0c1-441c-f6d5-2eb5b1b27743"
      },
      "source": [
        "answers['16']= 'Matt Damon'\n",
        "\n",
        "data_high_budget = data[data.budget > data.budget.mean()] # только высокобюджетные фильмы\n",
        "pd.DataFrame(data_high_budget.cast.str.split('|').tolist()).stack().value_counts() # подсчитываем актеров "
      ],
      "execution_count": 196,
      "outputs": [
        {
          "output_type": "execute_result",
          "data": {
            "text/plain": [
              "Matt Damon           18\n",
              "Adam Sandler         17\n",
              "Angelina Jolie       16\n",
              "Samuel L. Jackson    15\n",
              "Eddie Murphy         15\n",
              "                     ..\n",
              "Craig Berry           1\n",
              "Joel Murray           1\n",
              "Roscoe Lee Browne     1\n",
              "Gates McFadden        1\n",
              "Armin Rohde           1\n",
              "Length: 1505, dtype: int64"
            ]
          },
          "metadata": {},
          "execution_count": 196
        }
      ]
    },
    {
      "cell_type": "markdown",
      "metadata": {
        "id": "NIh6AaW5Vp_n"
      },
      "source": [
        "# 17. В фильмах какого жанра больше всего снимался Nicolas Cage? "
      ]
    },
    {
      "cell_type": "code",
      "metadata": {
        "colab": {
          "base_uri": "https://localhost:8080/"
        },
        "id": "H74SJDIBVp_n",
        "outputId": "2a0b6b5c-3d78-4a2c-c5c0-eef5e4ee984f"
      },
      "source": [
        "answers['17']= 'Action'\n",
        "data_cage = data[data['cast'].map(lambda x: True if 'Nicolas Cage' in x else False)] # новая таблица, где есть Nicolas\n",
        "pd.DataFrame(data_cage.genres.str.split('|').tolist()).stack().value_counts() # подсчет жанров"
      ],
      "execution_count": 197,
      "outputs": [
        {
          "output_type": "execute_result",
          "data": {
            "text/plain": [
              "Action             17\n",
              "Thriller           15\n",
              "Drama              12\n",
              "Crime              10\n",
              "Fantasy             8\n",
              "Adventure           7\n",
              "Comedy              6\n",
              "Science Fiction     4\n",
              "Mystery             3\n",
              "Animation           3\n",
              "Family              3\n",
              "History             2\n",
              "War                 1\n",
              "Horror              1\n",
              "Romance             1\n",
              "dtype: int64"
            ]
          },
          "metadata": {},
          "execution_count": 197
        }
      ]
    },
    {
      "cell_type": "markdown",
      "metadata": {
        "id": "RqOmPRfWVp_q"
      },
      "source": [
        "# 18. Самый убыточный фильм от Paramount Pictures"
      ]
    },
    {
      "cell_type": "code",
      "metadata": {
        "colab": {
          "base_uri": "https://localhost:8080/",
          "height": 136
        },
        "id": "9E_B0Y96Vp_r",
        "outputId": "112c27ee-f235-42fc-b3e0-6648734f4f92"
      },
      "source": [
        "answers['18']= 'K-19: The Widowmaker'\n",
        "data['paramount'] = data.production_companies.apply(lambda x: True if 'Paramount Pictures' in x else False) # новая колонка, есть ли Paramount в компаниях\n",
        "data_param = data[['paramount', 'profit', 'original_title']] # новая таблица для удобства\n",
        "data_param = data_param[data.paramount == True]\n",
        "# data_param(data.profit == data.profit.min()) # находим минимальное значение\n",
        "data_param[data.profit==-64831034]"
      ],
      "execution_count": 198,
      "outputs": [
        {
          "output_type": "stream",
          "name": "stderr",
          "text": [
            "/usr/local/lib/python3.7/dist-packages/ipykernel_launcher.py:5: UserWarning: Boolean Series key will be reindexed to match DataFrame index.\n",
            "  \"\"\"\n"
          ]
        },
        {
          "output_type": "execute_result",
          "data": {
            "text/html": [
              "<div>\n",
              "<style scoped>\n",
              "    .dataframe tbody tr th:only-of-type {\n",
              "        vertical-align: middle;\n",
              "    }\n",
              "\n",
              "    .dataframe tbody tr th {\n",
              "        vertical-align: top;\n",
              "    }\n",
              "\n",
              "    .dataframe thead th {\n",
              "        text-align: right;\n",
              "    }\n",
              "</style>\n",
              "<table border=\"1\" class=\"dataframe\">\n",
              "  <thead>\n",
              "    <tr style=\"text-align: right;\">\n",
              "      <th></th>\n",
              "      <th>paramount</th>\n",
              "      <th>profit</th>\n",
              "      <th>original_title</th>\n",
              "    </tr>\n",
              "  </thead>\n",
              "  <tbody>\n",
              "    <tr>\n",
              "      <th>925</th>\n",
              "      <td>True</td>\n",
              "      <td>-64831034</td>\n",
              "      <td>K-19: The Widowmaker</td>\n",
              "    </tr>\n",
              "  </tbody>\n",
              "</table>\n",
              "</div>"
            ],
            "text/plain": [
              "     paramount    profit        original_title\n",
              "925       True -64831034  K-19: The Widowmaker"
            ]
          },
          "metadata": {},
          "execution_count": 198
        }
      ]
    },
    {
      "cell_type": "markdown",
      "metadata": {
        "id": "vS8Ur6ddVp_u"
      },
      "source": [
        "# 19. Какой год стал самым успешным по суммарным кассовым сборам?"
      ]
    },
    {
      "cell_type": "code",
      "metadata": {
        "colab": {
          "base_uri": "https://localhost:8080/"
        },
        "id": "Dnbt4GdIVp_v",
        "outputId": "77228cc8-6930-4ad7-cfda-766cd4c706fe"
      },
      "source": [
        "answers['19']= '2015'\n",
        "m=0\n",
        "m1=0\n",
        "for i in range(2000,2016): # проход по годам в цикле\n",
        "  if data[data.release_year == i].revenue.sum()>m:\n",
        "    m=data[data.release_year == i].revenue.sum()\n",
        "    m1=i\n",
        "m1"
      ],
      "execution_count": 199,
      "outputs": [
        {
          "output_type": "execute_result",
          "data": {
            "text/plain": [
              "2015"
            ]
          },
          "metadata": {},
          "execution_count": 199
        }
      ]
    },
    {
      "cell_type": "markdown",
      "metadata": {
        "id": "JAzJh4QAVp_z"
      },
      "source": [
        "# 20. Какой самый прибыльный год для студии Warner Bros?"
      ]
    },
    {
      "cell_type": "code",
      "metadata": {
        "colab": {
          "base_uri": "https://localhost:8080/",
          "height": 615
        },
        "id": "wgVu02DEVp_0",
        "outputId": "0d04dce6-4d46-4dea-ee9a-3f8d63d67a36"
      },
      "source": [
        "answers['20']= '2014'\n",
        "data['warner'] = data.production_companies.apply(lambda x: True if 'Warner Bros' in x else False) # новая колонка\n",
        "data_warner = data[['warner', 'profit', 'original_title', 'release_year']] # новая таблица для удобства\n",
        "data_warner = data_warner[data.warner == True] # только где есть warner\n",
        "m=0\n",
        "m1=0\n",
        "for i in range(2000,2016): # проход по годам в цикле\n",
        "  if data_warner[data_warner.release_year == i].profit.sum()>m:\n",
        "    m=data_warner[data_warner.release_year == i].profit.sum()\n",
        "    m1=i\n",
        "m1\n",
        "data.head()"
      ],
      "execution_count": 200,
      "outputs": [
        {
          "output_type": "execute_result",
          "data": {
            "text/html": [
              "<div>\n",
              "<style scoped>\n",
              "    .dataframe tbody tr th:only-of-type {\n",
              "        vertical-align: middle;\n",
              "    }\n",
              "\n",
              "    .dataframe tbody tr th {\n",
              "        vertical-align: top;\n",
              "    }\n",
              "\n",
              "    .dataframe thead th {\n",
              "        text-align: right;\n",
              "    }\n",
              "</style>\n",
              "<table border=\"1\" class=\"dataframe\">\n",
              "  <thead>\n",
              "    <tr style=\"text-align: right;\">\n",
              "      <th></th>\n",
              "      <th>imdb_id</th>\n",
              "      <th>budget</th>\n",
              "      <th>revenue</th>\n",
              "      <th>original_title</th>\n",
              "      <th>cast</th>\n",
              "      <th>director</th>\n",
              "      <th>tagline</th>\n",
              "      <th>overview</th>\n",
              "      <th>runtime</th>\n",
              "      <th>genres</th>\n",
              "      <th>production_companies</th>\n",
              "      <th>release_date</th>\n",
              "      <th>vote_average</th>\n",
              "      <th>release_year</th>\n",
              "      <th>profit</th>\n",
              "      <th>Action</th>\n",
              "      <th>action</th>\n",
              "      <th>paramount</th>\n",
              "      <th>warner</th>\n",
              "      <th>month</th>\n",
              "    </tr>\n",
              "  </thead>\n",
              "  <tbody>\n",
              "    <tr>\n",
              "      <th>0</th>\n",
              "      <td>tt0369610</td>\n",
              "      <td>150000000</td>\n",
              "      <td>1513528810</td>\n",
              "      <td>Jurassic World</td>\n",
              "      <td>Chris Pratt|Bryce Dallas Howard|Irrfan Khan|Vi...</td>\n",
              "      <td>Colin Trevorrow</td>\n",
              "      <td>The park is open.</td>\n",
              "      <td>Twenty-two years after the events of Jurassic ...</td>\n",
              "      <td>124</td>\n",
              "      <td>Action|Adventure|Science Fiction|Thriller</td>\n",
              "      <td>Universal Studios|Amblin Entertainment|Legenda...</td>\n",
              "      <td>2015-06-09</td>\n",
              "      <td>6.5</td>\n",
              "      <td>2015</td>\n",
              "      <td>1363528810</td>\n",
              "      <td>1</td>\n",
              "      <td>1</td>\n",
              "      <td>False</td>\n",
              "      <td>False</td>\n",
              "      <td>6</td>\n",
              "    </tr>\n",
              "    <tr>\n",
              "      <th>1</th>\n",
              "      <td>tt1392190</td>\n",
              "      <td>150000000</td>\n",
              "      <td>378436354</td>\n",
              "      <td>Mad Max: Fury Road</td>\n",
              "      <td>Tom Hardy|Charlize Theron|Hugh Keays-Byrne|Nic...</td>\n",
              "      <td>George Miller</td>\n",
              "      <td>What a Lovely Day.</td>\n",
              "      <td>An apocalyptic story set in the furthest reach...</td>\n",
              "      <td>120</td>\n",
              "      <td>Action|Adventure|Science Fiction|Thriller</td>\n",
              "      <td>Village Roadshow Pictures|Kennedy Miller Produ...</td>\n",
              "      <td>2015-05-13</td>\n",
              "      <td>7.1</td>\n",
              "      <td>2015</td>\n",
              "      <td>228436354</td>\n",
              "      <td>1</td>\n",
              "      <td>1</td>\n",
              "      <td>False</td>\n",
              "      <td>False</td>\n",
              "      <td>5</td>\n",
              "    </tr>\n",
              "    <tr>\n",
              "      <th>2</th>\n",
              "      <td>tt2908446</td>\n",
              "      <td>110000000</td>\n",
              "      <td>295238201</td>\n",
              "      <td>Insurgent</td>\n",
              "      <td>Shailene Woodley|Theo James|Kate Winslet|Ansel...</td>\n",
              "      <td>Robert Schwentke</td>\n",
              "      <td>One Choice Can Destroy You</td>\n",
              "      <td>Beatrice Prior must confront her inner demons ...</td>\n",
              "      <td>119</td>\n",
              "      <td>Adventure|Science Fiction|Thriller</td>\n",
              "      <td>Summit Entertainment|Mandeville Films|Red Wago...</td>\n",
              "      <td>2015-03-18</td>\n",
              "      <td>6.3</td>\n",
              "      <td>2015</td>\n",
              "      <td>185238201</td>\n",
              "      <td>0</td>\n",
              "      <td>0</td>\n",
              "      <td>False</td>\n",
              "      <td>False</td>\n",
              "      <td>3</td>\n",
              "    </tr>\n",
              "    <tr>\n",
              "      <th>3</th>\n",
              "      <td>tt2488496</td>\n",
              "      <td>200000000</td>\n",
              "      <td>2068178225</td>\n",
              "      <td>Star Wars: The Force Awakens</td>\n",
              "      <td>Harrison Ford|Mark Hamill|Carrie Fisher|Adam D...</td>\n",
              "      <td>J.J. Abrams</td>\n",
              "      <td>Every generation has a story.</td>\n",
              "      <td>Thirty years after defeating the Galactic Empi...</td>\n",
              "      <td>136</td>\n",
              "      <td>Action|Adventure|Science Fiction|Fantasy</td>\n",
              "      <td>Lucasfilm|Truenorth Productions|Bad Robot</td>\n",
              "      <td>2015-12-15</td>\n",
              "      <td>7.5</td>\n",
              "      <td>2015</td>\n",
              "      <td>1868178225</td>\n",
              "      <td>1</td>\n",
              "      <td>1</td>\n",
              "      <td>False</td>\n",
              "      <td>False</td>\n",
              "      <td>12</td>\n",
              "    </tr>\n",
              "    <tr>\n",
              "      <th>4</th>\n",
              "      <td>tt2820852</td>\n",
              "      <td>190000000</td>\n",
              "      <td>1506249360</td>\n",
              "      <td>Furious 7</td>\n",
              "      <td>Vin Diesel|Paul Walker|Jason Statham|Michelle ...</td>\n",
              "      <td>James Wan</td>\n",
              "      <td>Vengeance Hits Home</td>\n",
              "      <td>Deckard Shaw seeks revenge against Dominic Tor...</td>\n",
              "      <td>137</td>\n",
              "      <td>Action|Crime|Thriller</td>\n",
              "      <td>Universal Pictures|Original Film|Media Rights ...</td>\n",
              "      <td>2015-04-01</td>\n",
              "      <td>7.3</td>\n",
              "      <td>2015</td>\n",
              "      <td>1316249360</td>\n",
              "      <td>1</td>\n",
              "      <td>1</td>\n",
              "      <td>False</td>\n",
              "      <td>False</td>\n",
              "      <td>4</td>\n",
              "    </tr>\n",
              "  </tbody>\n",
              "</table>\n",
              "</div>"
            ],
            "text/plain": [
              "     imdb_id     budget     revenue  ... paramount warner month\n",
              "0  tt0369610  150000000  1513528810  ...     False  False     6\n",
              "1  tt1392190  150000000   378436354  ...     False  False     5\n",
              "2  tt2908446  110000000   295238201  ...     False  False     3\n",
              "3  tt2488496  200000000  2068178225  ...     False  False    12\n",
              "4  tt2820852  190000000  1506249360  ...     False  False     4\n",
              "\n",
              "[5 rows x 20 columns]"
            ]
          },
          "metadata": {},
          "execution_count": 200
        }
      ]
    },
    {
      "cell_type": "markdown",
      "metadata": {
        "id": "8Im1S2HRVp_4"
      },
      "source": [
        "# 21. В каком месяце за все годы суммарно вышло больше всего фильмов?"
      ]
    },
    {
      "cell_type": "code",
      "metadata": {
        "colab": {
          "base_uri": "https://localhost:8080/"
        },
        "id": "lev6TH7gVp_4",
        "outputId": "811ccf15-3496-4abf-ea07-3e66f9f016ef"
      },
      "source": [
        "answers['21']= 'cентябрь'\n",
        "data['release_date'] = pd.to_datetime(data['release_date']) # функция преобразования строки в тип datetime\n",
        "data['month'] = data['release_date'].dt.month # находим месяц и выделяем в новую колонку\n",
        "data['month'].value_counts()\n"
      ],
      "execution_count": 201,
      "outputs": [
        {
          "output_type": "execute_result",
          "data": {
            "text/plain": [
              "9     227\n",
              "12    190\n",
              "10    186\n",
              "8     161\n",
              "3     156\n",
              "4     149\n",
              "6     147\n",
              "11    146\n",
              "7     142\n",
              "5     140\n",
              "2     135\n",
              "1     110\n",
              "Name: month, dtype: int64"
            ]
          },
          "metadata": {},
          "execution_count": 201
        }
      ]
    },
    {
      "cell_type": "markdown",
      "metadata": {
        "id": "uAJsZ_NeVp_7"
      },
      "source": [
        "# 22. Сколько суммарно вышло фильмов летом? (за июнь, июль, август)"
      ]
    },
    {
      "cell_type": "code",
      "metadata": {
        "colab": {
          "base_uri": "https://localhost:8080/"
        },
        "id": "Aa-hEREoVp_8",
        "outputId": "ef5051e3-149f-4edd-ad51-eba41b4c1680"
      },
      "source": [
        "answers['22']= '450'\n",
        "data['release_date'] = pd.to_datetime(data['release_date'])\n",
        "data['month'] = data['release_date'].dt.month \n",
        "data['month'].value_counts()\n",
        "print(147+142+161) # подсчет из таблицы из предыдущего задания"
      ],
      "execution_count": 202,
      "outputs": [
        {
          "output_type": "stream",
          "name": "stdout",
          "text": [
            "450\n"
          ]
        }
      ]
    },
    {
      "cell_type": "markdown",
      "metadata": {
        "id": "G94ppOY1VqAA"
      },
      "source": [
        "# 23. Для какого режиссера зима – самое продуктивное время года? "
      ]
    },
    {
      "cell_type": "code",
      "metadata": {
        "colab": {
          "base_uri": "https://localhost:8080/"
        },
        "id": "RhNTsamuVqAB",
        "outputId": "b43e6504-1446-4d77-a325-9602faba89c3"
      },
      "source": [
        "answers['23']= 'Peter Jackson'\n",
        "data_winter = data[(data.month > 11) | (data.month<3) ] # выделяем только зимние месяцы\n",
        "data_winter['director'].value_counts()\n"
      ],
      "execution_count": 203,
      "outputs": [
        {
          "output_type": "execute_result",
          "data": {
            "text/plain": [
              "Peter Jackson                       7\n",
              "Clint Eastwood                      6\n",
              "Steven Soderbergh                   6\n",
              "Martin Scorsese                     4\n",
              "Shawn Levy                          4\n",
              "                                   ..\n",
              "Florian Henckel von Donnersmarck    1\n",
              "Antoine Fuqua                       1\n",
              "JosÃ© Padilha                       1\n",
              "Brett Ratner                        1\n",
              "Nick Cassavetes                     1\n",
              "Name: director, Length: 332, dtype: int64"
            ]
          },
          "metadata": {},
          "execution_count": 203
        }
      ]
    },
    {
      "cell_type": "markdown",
      "metadata": {
        "id": "RBo0JVjVVqAF"
      },
      "source": [
        "# 24. Какая студия дает самые длинные названия своим фильмам по количеству символов?"
      ]
    },
    {
      "cell_type": "code",
      "metadata": {
        "colab": {
          "base_uri": "https://localhost:8080/",
          "height": 134
        },
        "id": "QRGS8L0iVqAG",
        "outputId": "fc9ee178-85cf-40bb-92a9-f27f79e49c6b"
      },
      "source": [
        "answers['23']= 'Peter Jackson'\n",
        "\n",
        "studios = ['Universal Pictures (Universal)', 'Warner Bros', 'Jim Henson Company, The', 'Paramount Pictures', 'Four By Two Productions']\n",
        "for i in studios:\n",
        "  \n",
        "\n"
      ],
      "execution_count": 204,
      "outputs": [
        {
          "output_type": "error",
          "ename": "SyntaxError",
          "evalue": "ignored",
          "traceback": [
            "\u001b[0;36m  File \u001b[0;32m\"<ipython-input-204-34a5c88208be>\"\u001b[0;36m, line \u001b[0;32m6\u001b[0m\n\u001b[0;31m    \u001b[0m\n\u001b[0m    ^\u001b[0m\n\u001b[0;31mSyntaxError\u001b[0m\u001b[0;31m:\u001b[0m unexpected EOF while parsing\n"
          ]
        }
      ]
    },
    {
      "cell_type": "markdown",
      "metadata": {
        "id": "9G0hbvR7VqAK"
      },
      "source": [
        "# 25. Описание фильмов какой студии в среднем самые длинные по количеству слов?"
      ]
    },
    {
      "cell_type": "code",
      "metadata": {
        "id": "Ge2GsLNxVqAK"
      },
      "source": [
        ""
      ],
      "execution_count": null,
      "outputs": []
    },
    {
      "cell_type": "markdown",
      "metadata": {
        "id": "FJ1AFt90VqAP"
      },
      "source": [
        "# 26. Какие фильмы входят в 1 процент лучших по рейтингу? \n",
        "по vote_average"
      ]
    },
    {
      "cell_type": "code",
      "metadata": {
        "colab": {
          "base_uri": "https://localhost:8080/",
          "height": 615
        },
        "id": "8qmJVq4CVqAQ",
        "outputId": "72ca8a42-af69-48bb-ff02-6c293f3cd2d9"
      },
      "source": [
        "data.head()"
      ],
      "execution_count": 179,
      "outputs": [
        {
          "output_type": "execute_result",
          "data": {
            "text/html": [
              "<div>\n",
              "<style scoped>\n",
              "    .dataframe tbody tr th:only-of-type {\n",
              "        vertical-align: middle;\n",
              "    }\n",
              "\n",
              "    .dataframe tbody tr th {\n",
              "        vertical-align: top;\n",
              "    }\n",
              "\n",
              "    .dataframe thead th {\n",
              "        text-align: right;\n",
              "    }\n",
              "</style>\n",
              "<table border=\"1\" class=\"dataframe\">\n",
              "  <thead>\n",
              "    <tr style=\"text-align: right;\">\n",
              "      <th></th>\n",
              "      <th>imdb_id</th>\n",
              "      <th>budget</th>\n",
              "      <th>revenue</th>\n",
              "      <th>original_title</th>\n",
              "      <th>cast</th>\n",
              "      <th>director</th>\n",
              "      <th>tagline</th>\n",
              "      <th>overview</th>\n",
              "      <th>runtime</th>\n",
              "      <th>genres</th>\n",
              "      <th>production_companies</th>\n",
              "      <th>release_date</th>\n",
              "      <th>vote_average</th>\n",
              "      <th>release_year</th>\n",
              "      <th>profit</th>\n",
              "      <th>Action</th>\n",
              "      <th>action</th>\n",
              "      <th>paramount</th>\n",
              "      <th>warner</th>\n",
              "      <th>month</th>\n",
              "    </tr>\n",
              "  </thead>\n",
              "  <tbody>\n",
              "    <tr>\n",
              "      <th>0</th>\n",
              "      <td>tt0369610</td>\n",
              "      <td>150000000</td>\n",
              "      <td>1513528810</td>\n",
              "      <td>Jurassic World</td>\n",
              "      <td>Chris Pratt|Bryce Dallas Howard|Irrfan Khan|Vi...</td>\n",
              "      <td>Colin Trevorrow</td>\n",
              "      <td>The park is open.</td>\n",
              "      <td>Twenty-two years after the events of Jurassic ...</td>\n",
              "      <td>124</td>\n",
              "      <td>Action|Adventure|Science Fiction|Thriller</td>\n",
              "      <td>Universal Studios|Amblin Entertainment|Legenda...</td>\n",
              "      <td>2015-06-09</td>\n",
              "      <td>6.5</td>\n",
              "      <td>2015</td>\n",
              "      <td>1363528810</td>\n",
              "      <td>1</td>\n",
              "      <td>1</td>\n",
              "      <td>False</td>\n",
              "      <td>False</td>\n",
              "      <td>6</td>\n",
              "    </tr>\n",
              "    <tr>\n",
              "      <th>1</th>\n",
              "      <td>tt1392190</td>\n",
              "      <td>150000000</td>\n",
              "      <td>378436354</td>\n",
              "      <td>Mad Max: Fury Road</td>\n",
              "      <td>Tom Hardy|Charlize Theron|Hugh Keays-Byrne|Nic...</td>\n",
              "      <td>George Miller</td>\n",
              "      <td>What a Lovely Day.</td>\n",
              "      <td>An apocalyptic story set in the furthest reach...</td>\n",
              "      <td>120</td>\n",
              "      <td>Action|Adventure|Science Fiction|Thriller</td>\n",
              "      <td>Village Roadshow Pictures|Kennedy Miller Produ...</td>\n",
              "      <td>2015-05-13</td>\n",
              "      <td>7.1</td>\n",
              "      <td>2015</td>\n",
              "      <td>228436354</td>\n",
              "      <td>1</td>\n",
              "      <td>1</td>\n",
              "      <td>False</td>\n",
              "      <td>False</td>\n",
              "      <td>5</td>\n",
              "    </tr>\n",
              "    <tr>\n",
              "      <th>2</th>\n",
              "      <td>tt2908446</td>\n",
              "      <td>110000000</td>\n",
              "      <td>295238201</td>\n",
              "      <td>Insurgent</td>\n",
              "      <td>Shailene Woodley|Theo James|Kate Winslet|Ansel...</td>\n",
              "      <td>Robert Schwentke</td>\n",
              "      <td>One Choice Can Destroy You</td>\n",
              "      <td>Beatrice Prior must confront her inner demons ...</td>\n",
              "      <td>119</td>\n",
              "      <td>Adventure|Science Fiction|Thriller</td>\n",
              "      <td>Summit Entertainment|Mandeville Films|Red Wago...</td>\n",
              "      <td>2015-03-18</td>\n",
              "      <td>6.3</td>\n",
              "      <td>2015</td>\n",
              "      <td>185238201</td>\n",
              "      <td>0</td>\n",
              "      <td>0</td>\n",
              "      <td>False</td>\n",
              "      <td>False</td>\n",
              "      <td>3</td>\n",
              "    </tr>\n",
              "    <tr>\n",
              "      <th>3</th>\n",
              "      <td>tt2488496</td>\n",
              "      <td>200000000</td>\n",
              "      <td>2068178225</td>\n",
              "      <td>Star Wars: The Force Awakens</td>\n",
              "      <td>Harrison Ford|Mark Hamill|Carrie Fisher|Adam D...</td>\n",
              "      <td>J.J. Abrams</td>\n",
              "      <td>Every generation has a story.</td>\n",
              "      <td>Thirty years after defeating the Galactic Empi...</td>\n",
              "      <td>136</td>\n",
              "      <td>Action|Adventure|Science Fiction|Fantasy</td>\n",
              "      <td>Lucasfilm|Truenorth Productions|Bad Robot</td>\n",
              "      <td>2015-12-15</td>\n",
              "      <td>7.5</td>\n",
              "      <td>2015</td>\n",
              "      <td>1868178225</td>\n",
              "      <td>1</td>\n",
              "      <td>1</td>\n",
              "      <td>False</td>\n",
              "      <td>False</td>\n",
              "      <td>12</td>\n",
              "    </tr>\n",
              "    <tr>\n",
              "      <th>4</th>\n",
              "      <td>tt2820852</td>\n",
              "      <td>190000000</td>\n",
              "      <td>1506249360</td>\n",
              "      <td>Furious 7</td>\n",
              "      <td>Vin Diesel|Paul Walker|Jason Statham|Michelle ...</td>\n",
              "      <td>James Wan</td>\n",
              "      <td>Vengeance Hits Home</td>\n",
              "      <td>Deckard Shaw seeks revenge against Dominic Tor...</td>\n",
              "      <td>137</td>\n",
              "      <td>Action|Crime|Thriller</td>\n",
              "      <td>Universal Pictures|Original Film|Media Rights ...</td>\n",
              "      <td>2015-04-01</td>\n",
              "      <td>7.3</td>\n",
              "      <td>2015</td>\n",
              "      <td>1316249360</td>\n",
              "      <td>1</td>\n",
              "      <td>1</td>\n",
              "      <td>False</td>\n",
              "      <td>False</td>\n",
              "      <td>4</td>\n",
              "    </tr>\n",
              "  </tbody>\n",
              "</table>\n",
              "</div>"
            ],
            "text/plain": [
              "     imdb_id     budget     revenue  ... paramount warner month\n",
              "0  tt0369610  150000000  1513528810  ...     False  False     6\n",
              "1  tt1392190  150000000   378436354  ...     False  False     5\n",
              "2  tt2908446  110000000   295238201  ...     False  False     3\n",
              "3  tt2488496  200000000  2068178225  ...     False  False    12\n",
              "4  tt2820852  190000000  1506249360  ...     False  False     4\n",
              "\n",
              "[5 rows x 20 columns]"
            ]
          },
          "metadata": {},
          "execution_count": 179
        }
      ]
    },
    {
      "cell_type": "markdown",
      "metadata": {
        "id": "MdXsUXbCVqAV"
      },
      "source": [
        "# 27. Какие актеры чаще всего снимаются в одном фильме вместе?\n"
      ]
    },
    {
      "cell_type": "markdown",
      "metadata": {
        "id": "4ymnxEVoVqAW"
      },
      "source": [
        "ВАРИАНТ 2"
      ]
    },
    {
      "cell_type": "markdown",
      "metadata": {
        "id": "U0nONFnGVqAX"
      },
      "source": [
        "# Submission"
      ]
    },
    {
      "cell_type": "code",
      "metadata": {
        "colab": {
          "base_uri": "https://localhost:8080/"
        },
        "id": "IfcaRO9-VqAX",
        "outputId": "8fd98317-1fa4-4a41-8927-a5f1a1be92a6"
      },
      "source": [
        "# в конце можно посмотреть свои ответы к каждому вопросу\n",
        "answers"
      ],
      "execution_count": 205,
      "outputs": [
        {
          "output_type": "execute_result",
          "data": {
            "text/plain": [
              "{'1': 'Pirates of the Caribbean: On Stranger Tides',\n",
              " '10': 'The Lone Ranger',\n",
              " '11': 'Drama',\n",
              " '12': 'Comedy',\n",
              " '13': 'Peter Jackson',\n",
              " '14': 'Michael Bay',\n",
              " '15': 'Chris Hemsworth',\n",
              " '16': 'Matt Damon',\n",
              " '17': 'Action',\n",
              " '18': 'K-19: The Widowmaker',\n",
              " '19': '2015',\n",
              " '2': 'Gods and Generals',\n",
              " '20': '2014',\n",
              " '21': 'cентябрь',\n",
              " '22': '450',\n",
              " '23': 'Peter Jackson',\n",
              " '3': 'Winnie the Pooh',\n",
              " '4': '110',\n",
              " '5': '107',\n",
              " '6': 'Avatar',\n",
              " '7': 'The Lone Ranger',\n",
              " '8': '1478',\n",
              " '9': 'The Dark Knight'}"
            ]
          },
          "metadata": {},
          "execution_count": 205
        }
      ]
    },
    {
      "cell_type": "code",
      "metadata": {
        "colab": {
          "base_uri": "https://localhost:8080/"
        },
        "id": "SiRmHPl8VqAd",
        "outputId": "1596df2a-5175-4f93-d890-3670a8bdf891"
      },
      "source": [
        "# и убедиться что ни чего не пропустил)\n",
        "len(answers)"
      ],
      "execution_count": 206,
      "outputs": [
        {
          "output_type": "execute_result",
          "data": {
            "text/plain": [
              "23"
            ]
          },
          "metadata": {},
          "execution_count": 206
        }
      ]
    },
    {
      "cell_type": "code",
      "metadata": {
        "id": "uCfuTkRbVqAg"
      },
      "source": [
        ""
      ],
      "execution_count": null,
      "outputs": []
    },
    {
      "cell_type": "code",
      "metadata": {
        "id": "Vwx3NrkSVqAl"
      },
      "source": [
        ""
      ],
      "execution_count": null,
      "outputs": []
    }
  ]
}